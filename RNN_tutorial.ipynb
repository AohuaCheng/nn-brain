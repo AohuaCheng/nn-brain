{
 "cells": [
  {
   "cell_type": "markdown",
   "id": "clear-camel",
   "metadata": {},
   "source": [
    "## Tutorial: Recurrent neural networks for cognitive neuroscience\n",
    "\n",
    "Robert Yang\n",
    "\n",
    "Note: This tutorial is prepared for a 2h interactive session at MIT BCS.\n",
    "\n",
    "[![Open In Colab](https://colab.research.google.com/assets/colab-badge.svg)](https://colab.research.google.com/github/gyyang/nn-brain/blob/master/RNN_tutorial.ipynb)"
   ]
  },
  {
   "cell_type": "markdown",
   "id": "urban-soccer",
   "metadata": {},
   "source": [
    "Installing and importing relevant packages"
   ]
  },
  {
   "cell_type": "code",
   "execution_count": 2,
   "id": "successful-battlefield",
   "metadata": {},
   "outputs": [],
   "source": [
    "# # If on Google Colab, uncomment to install neurogym to use cognitive tasks\n",
    "# ! git clone https://github.com/neurogym/neurogym.git\n",
    "# %cd neurogym/\n",
    "# ! pip install -e ."
   ]
  },
  {
   "cell_type": "markdown",
   "id": "scenic-tuesday",
   "metadata": {},
   "source": [
    "### Defining a recurrent neural network"
   ]
  },
  {
   "cell_type": "markdown",
   "id": "starting-excerpt",
   "metadata": {},
   "source": [
    "A recurrent network in machine learning"
   ]
  },
  {
   "cell_type": "code",
   "execution_count": null,
   "id": "comparable-piece",
   "metadata": {},
   "outputs": [],
   "source": [
    "pass"
   ]
  },
  {
   "cell_type": "markdown",
   "id": "proper-armor",
   "metadata": {},
   "source": [
    "A recurrent network that some neuroscientists prefer\n",
    "\n",
    "Here we will define a continuous-time neural network but discretize it in time using the Euler method.\n",
    "\\begin{align}\n",
    "    \\tau \\frac{d\\mathbf{r}}{dt} = -\\mathbf{r}(t) + f(W_r \\mathbf{r}(t) + W_x \\mathbf{x}(t) + \\mathbf{b}_r).\n",
    "\\end{align}\n",
    "\n",
    "This continuous-time system can then be discretized using the Euler method with a time step of $\\Delta t$, \n",
    "\\begin{align}\n",
    "    \\mathbf{r}(t+\\Delta t) = \\mathbf{r}(t) + \\Delta \\mathbf{r} = \\mathbf{r}(t) + \\frac{\\Delta t}{\\tau}[-\\mathbf{r}(t) + f(W_r \\mathbf{r}(t) + W_x \\mathbf{x}(t) + \\mathbf{b}_r)].\n",
    "\\end{align}"
   ]
  },
  {
   "cell_type": "code",
   "execution_count": 14,
   "id": "coupled-sessions",
   "metadata": {},
   "outputs": [],
   "source": [
    "# Define networks\n",
    "import torch\n",
    "import torch.nn as nn\n",
    "from torch.nn import init\n",
    "from torch.nn import functional as F\n",
    "import math\n",
    "    \n",
    "\n",
    "class CTRNN(nn.Module):\n",
    "    \"\"\"Continuous-time RNN.\n",
    "\n",
    "    Parameters:\n",
    "        input_size: Number of input neurons\n",
    "        hidden_size: Number of hidden neurons\n",
    "        dt: discretization time step in ms. \n",
    "            If None, dt equals time constant tau\n",
    "\n",
    "    Inputs:\n",
    "        input: tensor of shape (seq_len, batch, input_size)\n",
    "        hidden: tensor of shape (batch, hidden_size), initial hidden activity\n",
    "            if None, hidden is initialized through self.init_hidden()\n",
    "        \n",
    "    Outputs:\n",
    "        output: tensor of shape (seq_len, batch, hidden_size)\n",
    "        hidden: tensor of shape (batch, hidden_size), final hidden activity\n",
    "    \"\"\"\n",
    "\n",
    "    def __init__(self, input_size, hidden_size, dt=None, **kwargs):\n",
    "        super().__init__()\n",
    "        self.input_size = input_size\n",
    "        self.hidden_size = hidden_size\n",
    "        self.tau = 100\n",
    "        if dt is None:\n",
    "            alpha = 1\n",
    "        else:\n",
    "            alpha = dt / self.tau\n",
    "        self.alpha = alpha\n",
    "        self.oneminusalpha = 1 - alpha\n",
    "\n",
    "        self.input2h = nn.Linear(input_size, hidden_size)\n",
    "        self.h2h = nn.Linear(hidden_size, hidden_size)\n",
    "\n",
    "    def init_hidden(self, input_shape):\n",
    "        batch_size = input_shape[1]\n",
    "        return torch.zeros(batch_size, self.hidden_size)\n",
    "\n",
    "    def recurrence(self, input, hidden):\n",
    "        \"\"\"Run network for one time step.\n",
    "        \n",
    "        Inputs:\n",
    "            input: tensor of shape (batch, input_size)\n",
    "            hidden: tensor of shape (batch, hidden_size)\n",
    "        \n",
    "        Outputs:\n",
    "            h_new: tensor of shape (batch, hidden_size),\n",
    "                network activity at the next time step\n",
    "        \"\"\"\n",
    "        pre_activation = self.input2h(input) + self.h2h(hidden)\n",
    "        h_new = torch.relu(hidden * self.oneminusalpha +\n",
    "                           pre_activation * self.alpha)\n",
    "        return h_new\n",
    "\n",
    "    def forward(self, input, hidden=None):\n",
    "        \"\"\"Propogate input through the network.\"\"\"\n",
    "        if hidden is None:\n",
    "            hidden = self.init_hidden(input.shape).to(input.device)\n",
    "\n",
    "        output = []\n",
    "        steps = range(input.size(0))\n",
    "        for i in steps:\n",
    "            hidden = self.recurrence(input[i], hidden)\n",
    "            output.append(hidden)\n",
    "\n",
    "        output = torch.stack(output, dim=0)\n",
    "        return output, hidden\n",
    "\n",
    "\n",
    "class RNNNet(nn.Module):\n",
    "    \"\"\"Recurrent network model.\n",
    "\n",
    "    Parameters:\n",
    "        input_size: int, input size\n",
    "        hidden_size: int, hidden size\n",
    "        output_size: int, output size\n",
    "    \n",
    "    Inputs:\n",
    "        x: tensor of shape (Seq Len, Batch, Input size)\n",
    "\n",
    "    Outputs:\n",
    "        out: tensor of shape (Seq Len, Batch, Output size)\n",
    "        rnn_output: tensor of shape (Seq Len, Batch, Hidden size)\n",
    "    \"\"\"\n",
    "    def __init__(self, input_size, hidden_size, output_size, **kwargs):\n",
    "        super().__init__()\n",
    "\n",
    "        # Continuous time RNN\n",
    "        self.rnn = CTRNN(input_size, hidden_size, **kwargs)\n",
    "        \n",
    "        # Add an output layer\n",
    "        self.fc = nn.Linear(hidden_size, output_size)\n",
    "\n",
    "    def forward(self, x):\n",
    "        rnn_output, _ = self.rnn(x)\n",
    "        out = self.fc(rnn_output)\n",
    "        return out, rnn_output"
   ]
  },
  {
   "cell_type": "markdown",
   "id": "referenced-potential",
   "metadata": {},
   "source": [
    "Recurrent networks transform sequence to sequence"
   ]
  },
  {
   "cell_type": "code",
   "execution_count": 21,
   "id": "stylish-penguin",
   "metadata": {},
   "outputs": [
    {
     "name": "stdout",
     "output_type": "stream",
     "text": [
      "Input of shape (SeqLen, BatchSize, InputDim)= torch.Size([20, 16, 5])\n",
      "Output of shape (SeqLen, BatchSize, Neuron)= torch.Size([20, 16, 100])\n"
     ]
    }
   ],
   "source": [
    "batch_size = 16\n",
    "seq_len = 20  # sequence length\n",
    "input_size = 5  # input dimension\n",
    "\n",
    "# Make some random inputs\n",
    "input_rnn = torch.rand(seq_len, batch_size, input_size)\n",
    "\n",
    "# Make network\n",
    "rnn = CTRNN(input_size=input_size, hidden_size=100)\n",
    "\n",
    "# Run the sequence through the network\n",
    "output_rnn, activity = rnn(input_rnn)\n",
    "\n",
    "print('Input of shape (SeqLen, BatchSize, InputDim)=', input_rnn.shape)\n",
    "print('Output of shape (SeqLen, BatchSize, Neuron)=', output_rnn.shape)"
   ]
  },
  {
   "cell_type": "markdown",
   "id": "artificial-michael",
   "metadata": {},
   "source": [
    "### Defining a simple cognitive task"
   ]
  },
  {
   "cell_type": "markdown",
   "id": "controlled-taste",
   "metadata": {},
   "source": [
    "A simple \"perceptual decision making\" task"
   ]
  },
  {
   "cell_type": "code",
   "execution_count": 23,
   "id": "spoken-application",
   "metadata": {},
   "outputs": [
    {
     "data": {
      "image/png": "[encoded data removed]",
      "text/plain": [
       "<Figure size 360x345.6 with 4 Axes>"
      ]
     },
     "metadata": {
      "needs_background": "light"
     },
     "output_type": "display_data"
    }
   ],
   "source": [
    "import neurogym as ngym\n",
    "\n",
    "# Canned environment from neurogym\n",
    "task = 'PerceptualDecisionMaking-v0'\n",
    "kwargs = {'dt': 100}\n",
    "seq_len = 100\n",
    "\n",
    "# Make supervised dataset, neurogym boilerplate\n",
    "dataset = ngym.Dataset(task, env_kwargs=kwargs, batch_size=16,\n",
    "                       seq_len=seq_len)\n",
    "\n",
    "# A sample environment from dataset\n",
    "env = dataset.env\n",
    "# Visualize the environment with 2 sample trials\n",
    "_ = ngym.utils.plot_env(env, num_trials=2)\n",
    "\n",
    "# Network input and output size\n",
    "input_size = env.observation_space.shape[0]\n",
    "output_size = env.action_space.n"
   ]
  },
  {
   "cell_type": "markdown",
   "id": "large-modem",
   "metadata": {},
   "source": [
    "For supervised learning, the task returns input and target output"
   ]
  },
  {
   "cell_type": "code",
   "execution_count": 25,
   "id": "martial-tamil",
   "metadata": {},
   "outputs": [
    {
     "name": "stdout",
     "output_type": "stream",
     "text": [
      "Input has shape (SeqLen, Batch, Dim) = (100, 16, 3)\n",
      "Target has shape (SeqLen, Batch, Dim) = (100, 16)\n"
     ]
    }
   ],
   "source": [
    "# Generate one batch of data\n",
    "inputs, target = dataset()\n",
    "print('Input has shape (SeqLen, Batch, Dim) =', inputs.shape)\n",
    "print('Target has shape (SeqLen, Batch, Dim) =', target.shape)"
   ]
  },
  {
   "cell_type": "markdown",
   "id": "rubber-strategy",
   "metadata": {},
   "source": [
    "For reinforcement learning, the task returns observation and reward"
   ]
  },
  {
   "cell_type": "code",
   "execution_count": null,
   "id": "roman-sense",
   "metadata": {},
   "outputs": [],
   "source": [
    "pass"
   ]
  },
  {
   "cell_type": "markdown",
   "id": "separate-message",
   "metadata": {},
   "source": [
    "### Training the network to perform the task"
   ]
  },
  {
   "cell_type": "code",
   "execution_count": 6,
   "id": "romantic-recognition",
   "metadata": {},
   "outputs": [
    {
     "name": "stdout",
     "output_type": "stream",
     "text": [
      "RNNNet(\n",
      "  (rnn): CTRNN(\n",
      "    (input2h): Linear(in_features=3, out_features=64, bias=True)\n",
      "    (h2h): Linear(in_features=64, out_features=64, bias=True)\n",
      "  )\n",
      "  (fc): Linear(in_features=64, out_features=3, bias=True)\n",
      ")\n",
      "Step 100, Loss 0.0802\n",
      "Step 200, Loss 0.0226\n",
      "Step 300, Loss 0.0177\n",
      "Step 400, Loss 0.0132\n",
      "Step 500, Loss 0.0132\n",
      "Step 600, Loss 0.0125\n",
      "Step 700, Loss 0.0112\n",
      "Step 800, Loss 0.0122\n",
      "Step 900, Loss 0.0115\n",
      "Step 1000, Loss 0.0111\n"
     ]
    }
   ],
   "source": [
    "import torch.optim as optim\n",
    "\n",
    "# Instantiate the network and print information\n",
    "hidden_size = 64\n",
    "net = RNNNet(input_size=input_size, hidden_size=hidden_size,\n",
    "             output_size=output_size, dt=env.dt)\n",
    "print(net)\n",
    "\n",
    "def train_model(net):\n",
    "    # Use Adam optimizer\n",
    "    optimizer = optim.Adam(net.parameters(), lr=0.01)\n",
    "    criterion = nn.CrossEntropyLoss()\n",
    "\n",
    "    running_loss = 0\n",
    "    running_acc = 0\n",
    "    # Loop over training batches\n",
    "    for i in range(1000):\n",
    "        # Generate input and target, convert to pytorch tensor\n",
    "        inputs, labels = dataset()\n",
    "        inputs = torch.from_numpy(inputs).type(torch.float)\n",
    "        labels = torch.from_numpy(labels.flatten()).type(torch.long)\n",
    "\n",
    "        # boiler plate pytorch training:\n",
    "        optimizer.zero_grad()   # zero the gradient buffers\n",
    "        output, _ = net(inputs)\n",
    "        output = output.view(-1, output_size)\n",
    "        loss = criterion(output, labels)\n",
    "        loss.backward()\n",
    "        optimizer.step()    # Does the update\n",
    "\n",
    "        # Compute the running loss every 100 steps\n",
    "        running_loss += loss.item()\n",
    "        if i % 100 == 99:\n",
    "            running_loss /= 100\n",
    "            print('Step {}, Loss {:0.4f}'.format(i+1, running_loss))\n",
    "            running_loss = 0\n",
    "    return net\n",
    "\n",
    "net = train_model(net)"
   ]
  },
  {
   "cell_type": "markdown",
   "id": "affected-divide",
   "metadata": {},
   "source": [
    "### Run the network after training, record activity, computer performance"
   ]
  },
  {
   "cell_type": "code",
   "execution_count": 10,
   "id": "yellow-jason",
   "metadata": {},
   "outputs": [
    {
     "name": "stdout",
     "output_type": "stream",
     "text": [
      "Shape of the neural activity: (Time points, Neurons):  (2200, 64)\n",
      "Trial  0 {'ground_truth': 1, 'coh': 12.8, 'correct': True, 'choice': 2}\n",
      "Trial  1 {'ground_truth': 1, 'coh': 6.4, 'correct': True, 'choice': 2}\n",
      "Trial  2 {'ground_truth': 0, 'coh': 6.4, 'correct': True, 'choice': 1}\n",
      "Trial  3 {'ground_truth': 0, 'coh': 51.2, 'correct': True, 'choice': 1}\n",
      "Trial  4 {'ground_truth': 1, 'coh': 25.6, 'correct': True, 'choice': 2}\n",
      "Average performance 0.87\n"
     ]
    }
   ],
   "source": [
    "import numpy as np\n",
    "# Reset environment\n",
    "env.reset(no_step=True)\n",
    "\n",
    "# Initialize variables\n",
    "perf = 0\n",
    "num_trial = 100\n",
    "activity_dict = {}  # recording activity\n",
    "trial_infos = {}  # recording trial information\n",
    "\n",
    "for i in range(num_trial):\n",
    "    # Sample a new trial\n",
    "    env.new_trial()\n",
    "    ob, gt = env.ob, env.gt\n",
    "    # Convert to numpy, add batch dimension to input\n",
    "    inputs = torch.from_numpy(ob[:, np.newaxis, :]).type(torch.float)\n",
    "    \n",
    "    # Run the network for one trial\n",
    "    # action_pred (SeqLen, Batch, OutputDim)\n",
    "    action_pred, rnn_activity = net(inputs)\n",
    "    \n",
    "    # Compute performance\n",
    "    action_pred = action_pred.detach().numpy()[:, 0, :]\n",
    "    # Read out final choice at last time step\n",
    "    choice = np.argmax(action_pred[-1, :])\n",
    "    # Compare to ground truth\n",
    "    correct = choice == gt[-1]\n",
    "    \n",
    "    # Record activity, trial information, choice, correctness\n",
    "    rnn_activity = rnn_activity[:, 0, :].detach().numpy()\n",
    "    activity_dict[i] = rnn_activity\n",
    "    trial_infos[i] = env.trial.copy()\n",
    "    trial_infos[i].update({'correct': correct, 'choice': choice})\n",
    "    \n",
    "# Concatenate activity for PCA\n",
    "activity = np.concatenate(list(activity_dict[i] for i in range(num_trial)), axis=0)\n",
    "print('Shape of the neural activity: (Time points, Neurons): ', activity.shape)\n",
    "\n",
    "# Print informations for sample trials\n",
    "for i in range(5):\n",
    "    print('Trial ', i, trial_infos[i])\n",
    "    \n",
    "print('Average performance', np.mean([val['correct'] for val in trial_infos.values()]))"
   ]
  },
  {
   "cell_type": "markdown",
   "id": "suffering-persian",
   "metadata": {},
   "source": [
    "### Plot the network's activity in PCA"
   ]
  },
  {
   "cell_type": "code",
   "execution_count": 11,
   "id": "distinct-diploma",
   "metadata": {},
   "outputs": [
    {
     "data": {
      "text/plain": [
       "PCA(n_components=2)"
      ]
     },
     "execution_count": 11,
     "metadata": {},
     "output_type": "execute_result"
    }
   ],
   "source": [
    "# Apply PCA\n",
    "from sklearn.decomposition import PCA\n",
    "\n",
    "pca = PCA(n_components=2)\n",
    "pca.fit(activity)\n",
    "# print('Shape of the projected activity: (Time points, PCs): ', activity_pc.shape)"
   ]
  },
  {
   "cell_type": "code",
   "execution_count": 26,
   "id": "sapphire-alabama",
   "metadata": {},
   "outputs": [
    {
     "data": {
      "text/plain": [
       "Text(0, 0.5, 'PC 2')"
      ]
     },
     "execution_count": 26,
     "metadata": {},
     "output_type": "execute_result"
    },
    {
     "data": {
      "image/png": "[encoded data removed]",
      "text/plain": [
       "<Figure size 432x216 with 2 Axes>"
      ]
     },
     "metadata": {
      "needs_background": "light"
     },
     "output_type": "display_data"
    }
   ],
   "source": [
    "# Project each trial and visualize activity\n",
    "\n",
    "import matplotlib.pyplot as plt\n",
    "\n",
    "fig, (ax1, ax2) = plt.subplots(1, 2, sharey=True, sharex=True, figsize=(6, 3))\n",
    "for i in range(num_trial):\n",
    "    activity_pc = pca.transform(activity_dict[i])\n",
    "    trial = trial_infos[i]\n",
    "    color = 'red' if trial['ground_truth'] == 0 else 'blue'\n",
    "    _ = ax1.plot(activity_pc[:, 0], activity_pc[:, 1], 'o-', color=color)\n",
    "    \n",
    "    if i < 3:\n",
    "        _ = ax2.plot(activity_pc[:, 0], activity_pc[:, 1], 'o-', color=color)\n",
    "\n",
    "ax1.set_title('{:d} Trials'.format(num_trial))\n",
    "ax2.set_title('{:d} Trials'.format(3))\n",
    "ax1.set_xlabel('PC 1')\n",
    "ax1.set_ylabel('PC 2')"
   ]
  },
  {
   "cell_type": "markdown",
   "id": "continuing-planning",
   "metadata": {},
   "source": [
    "### Exercise 1: Time constant of RNNs\n",
    "\n",
    "**Easy** | Medium | Hard\n",
    "\n",
    "Changing the time constant of network units from 100ms to 10ms, and re-train the network. How does the final performance change?"
   ]
  },
  {
   "cell_type": "code",
   "execution_count": null,
   "id": "brilliant-canvas",
   "metadata": {},
   "outputs": [],
   "source": []
  },
  {
   "cell_type": "markdown",
   "id": "transsexual-underground",
   "metadata": {},
   "source": [
    "### Exercise 2: Plot the performance of RNN during training\n",
    "\n",
    "**Easy** | Medium | Hard\n",
    "\n",
    "Plot the performance of the task during the training process. Generate a plot with x-axis training steps, and y-axis performance."
   ]
  },
  {
   "cell_type": "code",
   "execution_count": null,
   "id": "ordinary-plastic",
   "metadata": {},
   "outputs": [],
   "source": []
  },
  {
   "cell_type": "markdown",
   "id": "norman-chorus",
   "metadata": {},
   "source": [
    "### Exercise 3: Change the initialization of the RNN\n",
    "\n",
    "**Easy** | Medium | Hard\n",
    "\n",
    "Right now the RNN is initialized with the default pytorch initialization. Set instead the initial weight to an identity matrix. How does that influence the final performance?"
   ]
  },
  {
   "cell_type": "code",
   "execution_count": null,
   "id": "neither-liberty",
   "metadata": {},
   "outputs": [],
   "source": []
  },
  {
   "cell_type": "markdown",
   "id": "educated-partnership",
   "metadata": {},
   "source": [
    "### Exercise 4: Hierarchical RNNs\n",
    "\n",
    "Easy | **Medium** | Hard\n",
    "\n",
    "Make a hierarhical RNN, where the first module receives external input, the second module receives inputs from the first and project to the third module. The third module produces the outputs.\n",
    "\n",
    "Train this hierarhical RNN on the task.\n",
    "\n",
    "(Optional) Visualize the activity on each module."
   ]
  },
  {
   "cell_type": "code",
   "execution_count": null,
   "id": "frank-murray",
   "metadata": {},
   "outputs": [],
   "source": []
  },
  {
   "cell_type": "markdown",
   "id": "experimental-perception",
   "metadata": {},
   "source": [
    "### Exercise 5: Sequential training of tasks\n",
    "\n",
    "Easy | **Medium** | Hard\n",
    "\n",
    "First train the network on one task, then train the network on the second task. Plot the performance of both tasks during the training process.\n",
    "\n",
    "Hint: you can get many tasks with the same input and output format using the yang19 collection in neurogym. Get the name of all tasks by running:\n",
    "\n",
    "`print(ngym.get_collection('yang19'))`"
   ]
  },
  {
   "cell_type": "code",
   "execution_count": null,
   "id": "suspected-postage",
   "metadata": {},
   "outputs": [],
   "source": []
  },
  {
   "cell_type": "markdown",
   "id": "bearing-rochester",
   "metadata": {},
   "source": [
    "### Exercise 6: Training only output connections\n",
    "\n",
    "Easy | **Medium** | Hard\n",
    "\n",
    "Train only the output connections of the network, and plot performance. Compare performance with gradient-descent trained networks."
   ]
  },
  {
   "cell_type": "code",
   "execution_count": null,
   "id": "cultural-contamination",
   "metadata": {},
   "outputs": [],
   "source": []
  },
  {
   "cell_type": "markdown",
   "id": "dressed-adapter",
   "metadata": {},
   "source": [
    "### Exercise 7: Training spatially embedded RNNs\n",
    "\n",
    "Easy | Medium | **Hard**\n",
    "\n",
    "In normal neural networks, RNN units have no spatial locations. Assume that the RNN units are embedded in a 2-D cortical sheet, and it is more costly to have long-range connections. Train such spatially embedded RNNs and show that this influences the connectivity structure after training."
   ]
  },
  {
   "cell_type": "code",
   "execution_count": null,
   "id": "individual-citizenship",
   "metadata": {},
   "outputs": [],
   "source": []
  },
  {
   "cell_type": "markdown",
   "id": "smoking-mineral",
   "metadata": {},
   "source": [
    "### Exercise 8: ConvNet + RNN\n",
    "\n",
    "Easy | Medium | **Hard**\n",
    "\n",
    "Add a convolutional network as the sensory module. Use a task that provides image input at each time point. No need to train the convolutional network.\n",
    "\n",
    "Hint: Some tasks in neurogym provide image input at each time step. But you can generate your own task as well."
   ]
  },
  {
   "cell_type": "code",
   "execution_count": null,
   "id": "pacific-response",
   "metadata": {},
   "outputs": [],
   "source": []
  },
  {
   "cell_type": "markdown",
   "id": "broad-yesterday",
   "metadata": {},
   "source": [
    "### Exercise 9: Short-term plasticity in RNN\n",
    "\n",
    "Easy | Medium | **Hard**\n",
    "\n",
    "Implement short-term plasticity in RNN and train the network on a working memory task. Compare the PCA trajectory with or without short-term plasticity.\n",
    "\n",
    "Refer to Masse et al. 19 for details on the short-term plasticity.\n",
    "\n",
    "TODO: Provide more detail"
   ]
  },
  {
   "cell_type": "code",
   "execution_count": null,
   "id": "spread-conclusion",
   "metadata": {},
   "outputs": [],
   "source": []
  }
 ],
 "metadata": {
  "kernelspec": {
   "display_name": "Python 3",
   "language": "python",
   "name": "python3"
  },
  "language_info": {
   "codemirror_mode": {
    "name": "ipython",
    "version": 3
   },
   "file_extension": ".py",
   "mimetype": "text/x-python",
   "name": "python",
   "nbconvert_exporter": "python",
   "pygments_lexer": "ipython3",
   "version": "3.8.5"
  }
 },
 "nbformat": 4,
 "nbformat_minor": 5
}
